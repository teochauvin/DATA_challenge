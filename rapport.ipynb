{
 "cells": [
  {
   "attachments": {},
   "cell_type": "markdown",
   "metadata": {},
   "source": [
    "# Rapport Challenge IA 2023  – Reconnaissance d'images satellites\n",
    "\n",
    "*Anouar ANEFAOUI, Téo CHAUVIN, Etienne REMOND*\n",
    "\n",
    "## Objectif\n",
    "\n",
    "A partir de datasets composés d'images satellites fournies par *Airbus Defence and Space*, il s'agit d'entraîner un modèle de Machine Learning dans le but de prédire si une éolienne se trouve sur une image ou non.\n",
    "\n",
    "## Pré-traitement des données\n",
    "\n",
    "Quelques photos d'éoliennes : \n",
    "\n",
    "![img éolienne 1](images/wm0.png) ![img éolienne 2](images/wm1.png) ![img éolienne 3](images/wm2.png)\n",
    "\n",
    "Quelques photos de background : \n",
    "\n",
    "![img background 1](images/bg0.png) ![img background 2](images/bg1.png) ![img background 3](images/bg2.png)\n",
    "\n",
    "Pas de pré-traitement a priori si ce n'est la création d'un dataset contenant les images d'éoliennes et de background puis un découpage de ces données en un trainset et un validation set. (proportions  = 80 / 20) \n",
    "\n",
    "## Approche classique : Réseau de neurones convolutif\n",
    "\n",
    "Construction du réseau de neurones : \n",
    "\n",
    "*Normalisation des données\n",
    "*Couches de convolutions qui vont traiter les images pour conserver les caractéristiques importantes (peut-être le poteau de l'éolienne et / ou son ombre...)\n",
    "*Flatten pour aplatir les images \n",
    "*Neurones densément connectés pour la classification supervisée."
   ]
  },
  {
   "cell_type": "code",
   "execution_count": null,
   "metadata": {},
   "outputs": [],
   "source": [
    "import tensorflow as tf\n",
    "from keras import layers\n",
    "\n",
    "num_classes = 2\n",
    "\n",
    "model = tf.keras.Sequential([\n",
    "  layers.Rescaling(1./255),\n",
    "  layers.Conv2D(32, 3, activation='relu'),\n",
    "  layers.MaxPooling2D(),\n",
    "  layers.Conv2D(32, 3, activation='relu'),\n",
    "  layers.MaxPooling2D(),\n",
    "  layers.Conv2D(32, 3, activation='relu'),\n",
    "  layers.MaxPooling2D(),\n",
    "  layers.Flatten(),\n",
    "  layers.Dense(128, activation='relu'),\n",
    "  layers.Dense(num_classes, activaion=\"softmax\")  \n",
    "])"
   ]
  },
  {
   "attachments": {},
   "cell_type": "markdown",
   "metadata": {},
   "source": [
    "## Application d'Auto-encodeurs"
   ]
  }
 ],
 "metadata": {
  "kernelspec": {
   "display_name": "Python 3",
   "language": "python",
   "name": "python3"
  },
  "language_info": {
   "name": "python",
   "version": "3.8.1"
  },
  "orig_nbformat": 4,
  "vscode": {
   "interpreter": {
    "hash": "0adcc2737ebf6a4a119f135174df96668767fca1ef1112612db5ecadf2b6d608"
   }
  }
 },
 "nbformat": 4,
 "nbformat_minor": 2
}
